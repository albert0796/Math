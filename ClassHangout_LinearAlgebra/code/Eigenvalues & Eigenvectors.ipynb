{
 "cells": [
  {
   "cell_type": "markdown",
   "metadata": {
    "colab_type": "text",
    "id": "GRiYi9c2bmfN"
   },
   "source": [
    "[scipy.linalg](https://docs.scipy.org/doc/scipy/reference/linalg.html)"
   ]
  },
  {
   "cell_type": "markdown",
   "metadata": {},
   "source": [
    "Example 4.13 (p.270)"
   ]
  },
  {
   "cell_type": "markdown",
   "metadata": {},
   "source": [
    "## Compute det A and B if $\n",
    "A=\\left [\n",
    "\\begin{matrix}\n",
    "2 & -3 & -1\\\\\n",
    "0 &  5 &  3\\\\\n",
    "-4& -6 & 2\\\\\n",
    "\\end{matrix}\n",
    "\\right ]\n",
    "$, $\n",
    "B=\\left [\n",
    "\\begin{matrix}\n",
    "0 & 2 & -4 & 5\\\\\n",
    "3 & 0 & -3 & 6\\\\\n",
    "2 & 4 & 5 & 7\\\\\n",
    "5 & -1 & -3 & 1\\\\\n",
    "\\end{matrix}\n",
    "\\right ]\n",
    "$ ?  \n"
   ]
  },
  {
   "cell_type": "code",
   "execution_count": 2,
   "metadata": {
    "colab": {},
    "colab_type": "code",
    "id": "AoGzyY4tbz6U"
   },
   "outputs": [],
   "source": [
    "import numpy as np"
   ]
  },
  {
   "cell_type": "code",
   "execution_count": 3,
   "metadata": {
    "colab": {},
    "colab_type": "code",
    "id": "8H_y8Cv2aKe7"
   },
   "outputs": [],
   "source": [
    "A=np.array([[2,3,-1],\n",
    "           [0,5,3],\n",
    "           [-4,-6,2]])"
   ]
  },
  {
   "cell_type": "code",
   "execution_count": 4,
   "metadata": {
    "colab": {},
    "colab_type": "code",
    "id": "IFtRBY9eaWpu"
   },
   "outputs": [],
   "source": [
    "from scipy import linalg\n"
   ]
  },
  {
   "cell_type": "code",
   "execution_count": 5,
   "metadata": {
    "colab": {
     "base_uri": "https://localhost:8080/",
     "height": 35
    },
    "colab_type": "code",
    "executionInfo": {
     "elapsed": 458,
     "status": "ok",
     "timestamp": 1551179375883,
     "user": {
      "displayName": "albert wu",
      "photoUrl": "",
      "userId": "06123119416736570623"
     },
     "user_tz": -480
    },
    "id": "D3KO3_frd1mJ",
    "outputId": "f2dbf700-504d-451e-a4ba-e360d0e5ee75"
   },
   "outputs": [
    {
     "data": {
      "text/plain": [
       "-1.9984014443252818e-15"
      ]
     },
     "execution_count": 5,
     "metadata": {},
     "output_type": "execute_result"
    }
   ],
   "source": [
    "linalg.det(A)"
   ]
  },
  {
   "cell_type": "code",
   "execution_count": 6,
   "metadata": {
    "colab": {
     "base_uri": "https://localhost:8080/",
     "height": 35
    },
    "colab_type": "code",
    "executionInfo": {
     "elapsed": 826,
     "status": "ok",
     "timestamp": 1551179520216,
     "user": {
      "displayName": "albert wu",
      "photoUrl": "",
      "userId": "06123119416736570623"
     },
     "user_tz": -480
    },
    "id": "2XVOSTWIfuKi",
    "outputId": "3208cccd-2f8a-4194-faf6-60f0b415f5ef"
   },
   "outputs": [
    {
     "data": {
      "text/plain": [
       "585.0000000000001"
      ]
     },
     "execution_count": 6,
     "metadata": {},
     "output_type": "execute_result"
    }
   ],
   "source": [
    "B=np.array([[0,2,-4,5],\n",
    "           [3,0,-3,6],\n",
    "           [2,4,5,7],\n",
    "           [5,-1,-3,1]])\n",
    "linalg.det(B)"
   ]
  },
  {
   "cell_type": "markdown",
   "metadata": {},
   "source": [
    "Example 4.18 (p.292)"
   ]
  },
  {
   "cell_type": "markdown",
   "metadata": {},
   "source": [
    "## Find the eigenvalues and the corresponding eigenspaces of $ A = \\left [\n",
    "\\begin{matrix}\n",
    "0 & 1 & 0\\\\\n",
    "0 &  0 & 1\\\\\n",
    "2& -5 & 4\\\\\n",
    "\\end{matrix}\n",
    "\\right ]\n",
    "$"
   ]
  },
  {
   "cell_type": "code",
   "execution_count": 14,
   "metadata": {
    "colab": {},
    "colab_type": "code",
    "id": "5Fxzah1FgRUJ"
   },
   "outputs": [
    {
     "name": "stdout",
     "output_type": "stream",
     "text": [
      "(array([1.00000001, 0.99999999, 2.        ]), array([[-0.57735026,  0.57735028, -0.21821789],\n",
      "       [-0.57735027,  0.57735027, -0.43643578],\n",
      "       [-0.57735028,  0.57735026, -0.87287156]]))\n"
     ]
    }
   ],
   "source": [
    "A=np.array([[0,1,0],\n",
    "           [0,0,1],\n",
    "           [2,-5,4]])\n",
    "eig=np.linalg.eig(A)\n",
    "print(eig)\n",
    "eigvalues,eigvectors=eig[0],eig[1]"
   ]
  },
  {
   "cell_type": "markdown",
   "metadata": {},
   "source": [
    "Example 4.19 (p.294)"
   ]
  },
  {
   "cell_type": "markdown",
   "metadata": {},
   "source": [
    "## Find the eigenvalues and the corresponding eigenspaces of $ A = \\left [\n",
    "\\begin{matrix}\n",
    "-1 & 0 & 1\\\\\n",
    "3 &  0 & -3\\\\\n",
    "1 & 0 & -1\\\\\n",
    "\\end{matrix}\n",
    "\\right ]\n",
    "$ "
   ]
  },
  {
   "cell_type": "code",
   "execution_count": 15,
   "metadata": {},
   "outputs": [
    {
     "name": "stdout",
     "output_type": "stream",
     "text": [
      "(array([ 0.,  0., -2.]), array([[ 0.        ,  0.70710678, -0.30151134],\n",
      "       [ 1.        ,  0.        ,  0.90453403],\n",
      "       [ 0.        ,  0.70710678,  0.30151134]]))\n"
     ]
    }
   ],
   "source": [
    "A=np.array([[-1,0,1],\n",
    "           [3,0,-3],\n",
    "           [1,0,-1]])\n",
    "eig=np.linalg.eig(A)\n",
    "print(eig)\n",
    "eigvalues,eigvectors=eig[0],eig[1]"
   ]
  },
  {
   "cell_type": "markdown",
   "metadata": {},
   "source": [
    "Compute $ A^{10} $  if A = \n",
    "$$\n",
    "\\left [\n",
    "\\begin{matrix}\n",
    "-1 & 6  \\\\\n",
    "1 & 0  \\\\\n",
    "\\end{matrix}\n",
    "\\right ]\n",
    "$$"
   ]
  },
  {
   "cell_type": "markdown",
   "metadata": {},
   "source": [
    "A has distinct eigenvalue: -3、2"
   ]
  },
  {
   "cell_type": "code",
   "execution_count": 1,
   "metadata": {},
   "outputs": [
    {
     "data": {
      "text/plain": [
       "array([-3.,  2.])"
      ]
     },
     "execution_count": 1,
     "metadata": {},
     "output_type": "execute_result"
    }
   ],
   "source": [
    "import numpy as np\n",
    "A=np.array([[-1,6],\n",
    "            [1,0]])\n",
    "np.linalg.eig(A)[0]"
   ]
  },
  {
   "cell_type": "markdown",
   "metadata": {},
   "source": [
    "According to Theorem 4.25: if A is an n$\\times$n matrix with n distinct eigenvalues, then A is diagonalizable, there exists a diagonal matrix D, such that D=$ P^{-1} $$ A^{} $$ P^{} $ and A is similar to D."
   ]
  },
  {
   "cell_type": "markdown",
   "metadata": {},
   "source": [
    "According to theorem 4.22(e): if A~D, then A and D has the same eigenvalues, D has eigenvalues: -3、2"
   ]
  },
  {
   "cell_type": "markdown",
   "metadata": {},
   "source": [
    "According to Theorem 4.15: the eigenvalues of triangle matrix are the entries on its main diagonal, diagonal matrix D is formed to be:\n",
    "$$\n",
    "\\left [\n",
    "\\begin{matrix}\n",
    "-3 & 0  \\\\\n",
    "0 & 2  \\\\\n",
    "\\end{matrix}\n",
    "\\right ]\n",
    "$$"
   ]
  },
  {
   "cell_type": "code",
   "execution_count": 2,
   "metadata": {},
   "outputs": [],
   "source": [
    "D=np.array([[-3,0],\n",
    "            [0,2]])"
   ]
  },
  {
   "cell_type": "markdown",
   "metadata": {},
   "source": [
    "Given $ A^{} $$ P^{} $=$ P^{} $$ D^{} $, $ P\\ne0 $:\n",
    "\\begin{equation}\n",
    "A{\\left [\n",
    "\\begin{matrix}\n",
    "P_{1} & P_{2}  \\\\\n",
    "\\end{matrix}\n",
    "\\right ]}=\\left [\n",
    "\\begin{matrix}\n",
    "P_{1} & P_{2}  \\\\\n",
    "\\end{matrix}\n",
    "\\right ]\\left [\n",
    "\\begin{matrix}\n",
    "-3 & 0  \\\\\n",
    "0 & 2  \\\\\n",
    "\\end{matrix}\n",
    "\\right ]\n",
    "\\end{equation}  \n",
    "&nbsp;  \n",
    "\\begin{equation}\n",
    "\\left [\n",
    "\\begin{matrix}\n",
    "AP_{1} & AP_{2}  \\\\\n",
    "\\end{matrix}\n",
    "\\right ]=\\left [\n",
    "\\begin{matrix}\n",
    "-3P_{1} & 2P_{2}  \\\\\n",
    "\\end{matrix}\n",
    "\\right ]\n",
    "\\end{equation}  \n",
    "&nbsp;  \n",
    "$$ AP_{1}=-3P_{1}, AP_{2}=2P_{2} $$  \n",
    "&nbsp;  \n",
    "the column vectors of P are eigenvectors of A whose corresponding eigenvalues are the diagonal entries of D in the same order."
   ]
  },
  {
   "cell_type": "code",
   "execution_count": 3,
   "metadata": {},
   "outputs": [
    {
     "data": {
      "text/latex": [
       "$$\\left[\\begin{matrix}-0.948683298050514 & -0.894427190999916\\\\0.316227766016838 & -0.447213595499958\\end{matrix}\\right]$$"
      ],
      "text/plain": [
       "⎡-0.948683298050514  -0.894427190999916⎤\n",
       "⎢                                      ⎥\n",
       "⎣0.316227766016838   -0.447213595499958⎦"
      ]
     },
     "execution_count": 3,
     "metadata": {},
     "output_type": "execute_result"
    }
   ],
   "source": [
    "import sympy as sp\n",
    "sp.init_printing()\n",
    "\n",
    "P=np.linalg.eig(A)[1]\n",
    "sp.Matrix(P)"
   ]
  },
  {
   "cell_type": "markdown",
   "metadata": {},
   "source": [
    "According to Theorem 4.22 (f): if A and B be n$\\times$n matrices with A~B, then $ A^{m} $~$ B^{m} $, $ D^{10} $=$ P^{-1} $$ A^{10} $$ P^{} $"
   ]
  },
  {
   "cell_type": "markdown",
   "metadata": {},
   "source": [
    "Given $ D^{10} $=$ P^{-1} $$ A^{10} $$ P^{} $, $ A^{10} $=$ P^{} $$ D^{10} $$ P^{-1} $"
   ]
  },
  {
   "cell_type": "markdown",
   "metadata": {},
   "source": [
    "Given D is a diagonal matrix, $ D^{10} $ can also be a diagonal matrix, and all its entries in the principle diagonal are to the power of 10 "
   ]
  },
  {
   "cell_type": "code",
   "execution_count": 4,
   "metadata": {},
   "outputs": [
    {
     "data": {
      "text/plain": [
       "array([[ 35839., -69630.],\n",
       "       [-11605.,  24234.]])"
      ]
     },
     "execution_count": 4,
     "metadata": {},
     "output_type": "execute_result"
    }
   ],
   "source": [
    "D_10=D**10\n",
    "A_10= P @ D_10 @ np.linalg.inv(P)\n",
    "A_10"
   ]
  },
  {
   "cell_type": "markdown",
   "metadata": {},
   "source": [
    "$ A^{10} $ is formed to be :\n",
    "$$\n",
    "\\left [\n",
    "\\begin{matrix}\n",
    "35839 & -69630  \\\\\n",
    "-11605 & 24234  \\\\\n",
    "\\end{matrix}\n",
    "\\right ]\n",
    "$$"
   ]
  },
  {
   "cell_type": "code",
   "execution_count": null,
   "metadata": {},
   "outputs": [],
   "source": []
  }
 ],
 "metadata": {
  "colab": {
   "name": "Section 4.2 & 4.4.ipynb",
   "provenance": [],
   "version": "0.3.2"
  },
  "kernelspec": {
   "display_name": "Python 3",
   "language": "python",
   "name": "python3"
  },
  "language_info": {
   "codemirror_mode": {
    "name": "ipython",
    "version": 3
   },
   "file_extension": ".py",
   "mimetype": "text/x-python",
   "name": "python",
   "nbconvert_exporter": "python",
   "pygments_lexer": "ipython3",
   "version": "3.7.3"
  }
 },
 "nbformat": 4,
 "nbformat_minor": 1
}
