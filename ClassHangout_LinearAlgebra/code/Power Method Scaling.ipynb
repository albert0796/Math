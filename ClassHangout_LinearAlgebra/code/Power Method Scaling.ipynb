{
 "cells": [
  {
   "cell_type": "code",
   "execution_count": 1,
   "metadata": {},
   "outputs": [
    {
     "name": "stdout",
     "output_type": "stream",
     "text": [
      "i = 1\n",
      "x = \n",
      " [[-1]\n",
      " [-4]\n",
      " [ 6]]\n",
      "m = 6\n",
      "i = 2\n",
      "x = \n",
      " [[ -9.33333333]\n",
      " [-19.33333333]\n",
      " [ 11.66666667]]\n",
      "m = -19.333333333333332\n",
      "i = 3\n",
      "x = \n",
      " [[ 8.62068966]\n",
      " [17.31034483]\n",
      " [-9.        ]]\n",
      "m = 17.310344827586206\n",
      "i = 4\n",
      "x = \n",
      " [[ 8.11952191]\n",
      " [16.24701195]\n",
      " [-8.19521912]]\n",
      "m = 16.247011952191237\n",
      "i = 5\n",
      "x = \n",
      " [[ 8.02648357]\n",
      " [16.05394801]\n",
      " [-8.04364885]]\n",
      "m = 16.05394801373222\n",
      "i = 6\n",
      "x = \n",
      " [[ 8.00623205]\n",
      " [16.0125863 ]\n",
      " [-8.01032566]]\n",
      "m = 16.012586301704648\n",
      "i = 7\n",
      "x = \n",
      " [[ 8.001511  ]\n",
      " [16.00303726]\n",
      " [-8.0025107 ]]\n",
      "m = 16.003037263715377\n",
      "i = 8\n",
      "x = \n",
      " [[ 8.00037196]\n",
      " [16.00074582]\n",
      " [-8.00061897]]\n",
      "m = 16.000745819547912\n"
     ]
    }
   ],
   "source": [
    "import numpy as np\n",
    "def PowerMethod_Scaling(A, x, k):\n",
    "    # Theorem 4.28 (p.312)\n",
    "    y=x\n",
    "    for i in range(k):\n",
    "        x = A @ y\n",
    "        m=x[abs(x).argmax(axis=0)].item(0)\n",
    "        y=(1/m)*x\n",
    "        print('i = {}'.format(i+1))\n",
    "        print('x = \\n {}'.format(x))\n",
    "        print('m = {}'.format(m))\n",
    "\n",
    "A=np.mat([[0,5,-6],\n",
    "          [-4,12,-12],\n",
    "          [-2,-2,10]])\n",
    "x=np.mat([[1],\n",
    "       [1],\n",
    "       [1]])\n",
    "k=8\n",
    "\n",
    "PowerMethod_Scaling(A, x, k)"
   ]
  },
  {
   "cell_type": "markdown",
   "metadata": {},
   "source": [
    "### Use the Rayleigh quotient method to approximate the dominant eigenvalue and eigenvector of A"
   ]
  },
  {
   "cell_type": "code",
   "execution_count": 1,
   "metadata": {},
   "outputs": [
    {
     "name": "stdout",
     "output_type": "stream",
     "text": [
      "i = 1\n",
      "R(x) = 4.4035087719298245\n",
      "i = 2\n",
      "R(x) = 4.412827461607949\n"
     ]
    }
   ],
   "source": [
    "import numpy as np\n",
    "\n",
    "def IP(x,y):\n",
    "    xx=x.T\n",
    "    xy=np.dot(xx,y)\n",
    "    return xy.item(0)\n",
    "\n",
    "\n",
    "def PowerMethod_Scaling(A, x, k,e):\n",
    "    y=x\n",
    "    r=100\n",
    "    for i in range(k):\n",
    "        x = A @ y\n",
    "        r_i=IP(A@x,x)/IP(x,x)\n",
    "        print('i = {}'.format(i+1))\n",
    "        print('R(x) = {}'.format(r_i))\n",
    "        if abs(r_i-r)<=e:\n",
    "            break\n",
    "        y=x\n",
    "        r=r_i\n",
    "\n",
    "A=np.array([[3,1,0],\n",
    "          [1,3,1],\n",
    "          [0,1,3]])\n",
    "x=np.array([[1],\n",
    "           [1],\n",
    "           [1]])\n",
    "k=6\n",
    "e=10\n",
    "PowerMethod_Scaling(A, x, k,e)"
   ]
  },
  {
   "cell_type": "code",
   "execution_count": null,
   "metadata": {},
   "outputs": [],
   "source": []
  }
 ],
 "metadata": {
  "kernelspec": {
   "display_name": "Python 3",
   "language": "python",
   "name": "python3"
  },
  "language_info": {
   "codemirror_mode": {
    "name": "ipython",
    "version": 3
   },
   "file_extension": ".py",
   "mimetype": "text/x-python",
   "name": "python",
   "nbconvert_exporter": "python",
   "pygments_lexer": "ipython3",
   "version": "3.7.3"
  }
 },
 "nbformat": 4,
 "nbformat_minor": 2
}
