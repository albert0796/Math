{
 "cells": [
  {
   "cell_type": "code",
   "execution_count": 1,
   "metadata": {},
   "outputs": [
    {
     "name": "stdout",
     "output_type": "stream",
     "text": [
      "[[  1.   2.  -4.  -4.   5.]\n",
      " [ -0.   1. -10.  -9.   5.]\n",
      " [  0.   0.   1.   1.  -1.]\n",
      " [  0.   0.   0.   0.  24.]]\n"
     ]
    },
    {
     "data": {
      "text/plain": [
       "'\\na=np.array([1,2,-4,-4],[2,4,0,0],[2,3,2,1],[-1,1,3,6])\\nb=np.array([5],[2],[5],[5]) \\nx=np.linalg.solve(a,b)\\n\\n'"
      ]
     },
     "execution_count": 1,
     "metadata": {},
     "output_type": "execute_result"
    }
   ],
   "source": [
    "import numpy as np\n",
    "\n",
    "def argumented(A, b):\n",
    "    return np.c_[A,b]\n",
    "\n",
    "def swaprows(A, i, j):\n",
    "    A = A\n",
    "    A[[i,j]] = A[[j,i]]\n",
    "    return A\n",
    "\n",
    "def multiplying(A,i,j):\n",
    "    A[i]=A[i]/A[i,j]\n",
    "    return A\n",
    "\n",
    "def rowoperation(A,i,k,j):\n",
    "    A[j]=A[j]+A[i]*k\n",
    "    return A\n",
    "\n",
    "A = np.mat([[1., 2., -4., -4.],\n",
    "            [2., 4., 0., 0.],\n",
    "            [2., 3., 2., 1.],\n",
    "            [-1., 1., 3., 6.]])\n",
    "    \n",
    "b = np.mat([[5.],\n",
    "            [2.],\n",
    "            [5.],\n",
    "            [5.]])\n",
    "    \n",
    "mat=argumented(A,b)\n",
    "#row=mat.shape[0]\n",
    "#columns=mat.shape[1]\n",
    "\n",
    "multiplying(mat,0,0)\n",
    "rowoperation(mat,0,-2,1)\n",
    "rowoperation(mat,0,-2,2)\n",
    "rowoperation(mat,0,1,3)\n",
    "\n",
    "swaprows(mat,1,2)\n",
    "\n",
    "multiplying(mat,1,1)\n",
    "rowoperation(mat,1,0,2)\n",
    "rowoperation(mat,1,-3,3)\n",
    "\n",
    "multiplying(mat,2,2)\n",
    "rowoperation(mat,2,-29,3)\n",
    "\n",
    "print(mat)\n",
    "\n",
    "'''\n",
    "a=np.array([1,2,-4,-4],[2,4,0,0],[2,3,2,1],[-1,1,3,6])\n",
    "b=np.array([5],[2],[5],[5]) \n",
    "x=np.linalg.solve(a,b)\n",
    "\n",
    "'''"
   ]
  },
  {
   "cell_type": "code",
   "execution_count": null,
   "metadata": {},
   "outputs": [],
   "source": []
  }
 ],
 "metadata": {
  "kernelspec": {
   "display_name": "Python 3",
   "language": "python",
   "name": "python3"
  },
  "language_info": {
   "codemirror_mode": {
    "name": "ipython",
    "version": 3
   },
   "file_extension": ".py",
   "mimetype": "text/x-python",
   "name": "python",
   "nbconvert_exporter": "python",
   "pygments_lexer": "ipython3",
   "version": "3.7.3"
  }
 },
 "nbformat": 4,
 "nbformat_minor": 2
}
