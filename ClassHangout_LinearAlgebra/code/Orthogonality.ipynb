{
 "cells": [
  {
   "cell_type": "code",
   "execution_count": 2,
   "metadata": {},
   "outputs": [],
   "source": [
    "from IPython.core.interactiveshell import InteractiveShell\n",
    "InteractiveShell.ast_node_interactivity = \"all\""
   ]
  },
  {
   "cell_type": "code",
   "execution_count": 3,
   "metadata": {
    "colab": {},
    "colab_type": "code",
    "id": "c5j3Lor97IHs"
   },
   "outputs": [],
   "source": [
    "%matplotlib inline\n",
    "\n",
    "import numpy as np\n",
    "import matplotlib.pyplot as plt"
   ]
  },
  {
   "cell_type": "code",
   "execution_count": 4,
   "metadata": {},
   "outputs": [],
   "source": [
    "# https://www.sympy.org/en/index.html\n",
    "import sympy as sp"
   ]
  },
  {
   "cell_type": "code",
   "execution_count": 5,
   "metadata": {},
   "outputs": [],
   "source": [
    "sp.init_printing()"
   ]
  },
  {
   "cell_type": "markdown",
   "metadata": {},
   "source": [
    "## * Section 5.1  Orthonality in $ \\mathbb{R}^n $"
   ]
  },
  {
   "cell_type": "markdown",
   "metadata": {},
   "source": [
    "### Ex. 5.1 (p.369)"
   ]
  },
  {
   "cell_type": "markdown",
   "metadata": {},
   "source": [
    "#### 使用 np.mat() 創建"
   ]
  },
  {
   "cell_type": "code",
   "execution_count": 6,
   "metadata": {
    "colab": {
     "base_uri": "https://localhost:8080/",
     "height": 69
    },
    "colab_type": "code",
    "id": "8_HpH11_7Ndb",
    "outputId": "330e6c18-c8fb-4e66-909a-d79e03880849"
   },
   "outputs": [
    {
     "data": {
      "text/plain": [
       "matrix([[ 2],\n",
       "        [ 1],\n",
       "        [-1]])"
      ]
     },
     "execution_count": 6,
     "metadata": {},
     "output_type": "execute_result"
    },
    {
     "data": {
      "text/latex": [
       "$$\\left[\\begin{matrix}2\\\\1\\\\-1\\end{matrix}\\right]$$"
      ],
      "text/plain": [
       "⎡2 ⎤\n",
       "⎢  ⎥\n",
       "⎢1 ⎥\n",
       "⎢  ⎥\n",
       "⎣-1⎦"
      ]
     },
     "execution_count": 6,
     "metadata": {},
     "output_type": "execute_result"
    }
   ],
   "source": [
    "v1 = np.mat([2, 1, -1]).T\n",
    "v1\n",
    "sp.Matrix(v1)"
   ]
  },
  {
   "cell_type": "code",
   "execution_count": 7,
   "metadata": {
    "colab": {},
    "colab_type": "code",
    "id": "uYOzoEHz7q50"
   },
   "outputs": [
    {
     "data": {
      "text/latex": [
       "$$\\left[\\begin{matrix}0\\\\1\\\\1\\end{matrix}\\right]$$"
      ],
      "text/plain": [
       "⎡0⎤\n",
       "⎢ ⎥\n",
       "⎢1⎥\n",
       "⎢ ⎥\n",
       "⎣1⎦"
      ]
     },
     "execution_count": 7,
     "metadata": {},
     "output_type": "execute_result"
    }
   ],
   "source": [
    "v2 = np.mat([0, 1, 1]).T\n",
    "sp.Matrix(v2)"
   ]
  },
  {
   "cell_type": "code",
   "execution_count": 8,
   "metadata": {
    "colab": {
     "base_uri": "https://localhost:8080/",
     "height": 69
    },
    "colab_type": "code",
    "id": "EqXO1s0L7xAp",
    "outputId": "401ec399-fabc-42c2-ee32-d954fc4461d9"
   },
   "outputs": [
    {
     "data": {
      "text/latex": [
       "$$\\left[\\begin{matrix}1\\\\-1\\\\1\\end{matrix}\\right]$$"
      ],
      "text/plain": [
       "⎡1 ⎤\n",
       "⎢  ⎥\n",
       "⎢-1⎥\n",
       "⎢  ⎥\n",
       "⎣1 ⎦"
      ]
     },
     "execution_count": 8,
     "metadata": {},
     "output_type": "execute_result"
    }
   ],
   "source": [
    "v3 = np.mat([1, -1, 1]).T\n",
    "sp.Matrix(v3)"
   ]
  },
  {
   "cell_type": "code",
   "execution_count": 9,
   "metadata": {
    "colab": {
     "base_uri": "https://localhost:8080/",
     "height": 35
    },
    "colab_type": "code",
    "id": "U471T_gq71tD",
    "outputId": "9abb79e4-21d7-4e2e-b952-23b21438caf3"
   },
   "outputs": [
    {
     "data": {
      "text/plain": [
       "matrix([[0]])"
      ]
     },
     "execution_count": 9,
     "metadata": {},
     "output_type": "execute_result"
    }
   ],
   "source": [
    "v1.T @ v2    # @ = np.dot() : dot product"
   ]
  },
  {
   "cell_type": "code",
   "execution_count": 10,
   "metadata": {
    "colab": {
     "base_uri": "https://localhost:8080/",
     "height": 35
    },
    "colab_type": "code",
    "id": "alOFk3VH8GGt",
    "outputId": "40d709da-76ed-4cf0-e720-46d4c14d7b79"
   },
   "outputs": [
    {
     "data": {
      "text/plain": [
       "matrix([[0]])"
      ]
     },
     "execution_count": 10,
     "metadata": {},
     "output_type": "execute_result"
    }
   ],
   "source": [
    "v2.T @ v3"
   ]
  },
  {
   "cell_type": "code",
   "execution_count": 11,
   "metadata": {
    "colab": {
     "base_uri": "https://localhost:8080/",
     "height": 35
    },
    "colab_type": "code",
    "id": "qrVn-WIu8OBk",
    "outputId": "baf962ba-19cb-4109-b10a-14bfedca9c60"
   },
   "outputs": [
    {
     "data": {
      "text/plain": [
       "matrix([[0]])"
      ]
     },
     "execution_count": 11,
     "metadata": {},
     "output_type": "execute_result"
    }
   ],
   "source": [
    "v3.T @ v1"
   ]
  },
  {
   "cell_type": "markdown",
   "metadata": {},
   "source": [
    "### Ex. 5.2 (p.370)"
   ]
  },
  {
   "cell_type": "markdown",
   "metadata": {},
   "source": [
    "#### 使用 np.array() 創建"
   ]
  },
  {
   "cell_type": "code",
   "execution_count": 12,
   "metadata": {
    "colab": {
     "base_uri": "https://localhost:8080/",
     "height": 35
    },
    "colab_type": "code",
    "id": "Rn-Gl20o8Qju",
    "outputId": "8a688f1b-a0ea-4a8c-fd3d-966cb61dafc8"
   },
   "outputs": [
    {
     "data": {
      "text/latex": [
       "$$\\left[\\begin{matrix}2\\\\1\\\\-1\\end{matrix}\\right]$$"
      ],
      "text/plain": [
       "⎡2 ⎤\n",
       "⎢  ⎥\n",
       "⎢1 ⎥\n",
       "⎢  ⎥\n",
       "⎣-1⎦"
      ]
     },
     "execution_count": 12,
     "metadata": {},
     "output_type": "execute_result"
    }
   ],
   "source": [
    "v1 = np.array([2, 1, -1])\n",
    "sp.Matrix(v1)"
   ]
  },
  {
   "cell_type": "code",
   "execution_count": 13,
   "metadata": {
    "colab": {
     "base_uri": "https://localhost:8080/",
     "height": 35
    },
    "colab_type": "code",
    "id": "XAKHde-i9V6P",
    "outputId": "471330fb-d5f7-400a-aedc-816a6fb0800c"
   },
   "outputs": [
    {
     "data": {
      "text/latex": [
       "$$\\left[\\begin{matrix}0\\\\1\\\\1\\end{matrix}\\right]$$"
      ],
      "text/plain": [
       "⎡0⎤\n",
       "⎢ ⎥\n",
       "⎢1⎥\n",
       "⎢ ⎥\n",
       "⎣1⎦"
      ]
     },
     "execution_count": 13,
     "metadata": {},
     "output_type": "execute_result"
    }
   ],
   "source": [
    "v2 = np.array([0, 1, 1])\n",
    "sp.Matrix(v2)"
   ]
  },
  {
   "cell_type": "code",
   "execution_count": 14,
   "metadata": {
    "colab": {
     "base_uri": "https://localhost:8080/",
     "height": 35
    },
    "colab_type": "code",
    "id": "idrtoKUA9bjd",
    "outputId": "0892e4d0-339f-4c48-c9c0-cf7a14c1c46f"
   },
   "outputs": [
    {
     "data": {
      "text/plain": [
       "array([ 2, -2,  2])"
      ]
     },
     "execution_count": 14,
     "metadata": {},
     "output_type": "execute_result"
    }
   ],
   "source": [
    "np.cross(v1, v2)   # np.cross() : cross product"
   ]
  },
  {
   "cell_type": "code",
   "execution_count": 15,
   "metadata": {},
   "outputs": [
    {
     "data": {
      "text/latex": [
       "$$\\left[\\begin{matrix}1.0\\\\-1.0\\\\1.0\\end{matrix}\\right]$$"
      ],
      "text/plain": [
       "⎡1.0 ⎤\n",
       "⎢    ⎥\n",
       "⎢-1.0⎥\n",
       "⎢    ⎥\n",
       "⎣1.0 ⎦"
      ]
     },
     "execution_count": 15,
     "metadata": {},
     "output_type": "execute_result"
    }
   ],
   "source": [
    "v3 = np.cross(v1, v2) / 2\n",
    "sp.Matrix(v3)"
   ]
  },
  {
   "cell_type": "code",
   "execution_count": 16,
   "metadata": {},
   "outputs": [
    {
     "data": {
      "text/plain": [
       "<mpl_toolkits.mplot3d.art3d.Line3DCollection at 0x99b9d68>"
      ]
     },
     "execution_count": 16,
     "metadata": {},
     "output_type": "execute_result"
    },
    {
     "data": {
      "image/png": "[encoded data removed]",
      "text/plain": [
       "<Figure size 432x288 with 1 Axes>"
      ]
     },
     "metadata": {
      "needs_background": "light"
     },
     "output_type": "display_data"
    }
   ],
   "source": [
    "# https://stackoverflow.com/questions/47319238/python-plot-3d-vectors\n",
    "\n",
    "import numpy as np\n",
    "import matplotlib.pyplot as plt\n",
    "from mpl_toolkits.mplot3d import Axes3D\n",
    "\n",
    "origin = [0,0,0]\n",
    "X, Y, Z = zip(origin,origin,origin) \n",
    "U, V, W = zip(v1, v2, v3)\n",
    "\n",
    "# 標準畫法\n",
    "fig = plt.figure()\n",
    "ax = fig.add_subplot(111, projection='3d')\n",
    "ax.quiver(X,Y,Z,U,V,W, arrow_length_ratio=0.01)\n",
    "plt.show()"
   ]
  },
  {
   "cell_type": "raw",
   "metadata": {},
   "source": [
    "## https://stackoverflow.com/questions/47319238/python-plot-3d-vectors\n",
    "\n",
    "## http://docs.enthought.com/mayavi/mayavi/installation.html#installing-with-pip\n",
    "# $ pip insta​pip install mayavill mayavi\n",
    "# $ pip install PyQt5\n",
    "# $ jupyter nbextension install --py mayavi --user\n",
    "# $ jupyter nbextension enable --py mayavi --user\n",
    "import mayavi.mlab as m\n",
    "\n",
    "## http://docs.enthought.com/mayavi/mayavi/tips.html#using-mayavi-in-jupyter-notebooks\n",
    "# from mayavi import mlab\n",
    "# mlab.init_notebook()\n",
    "# s = mlab.test_plot3d() \n",
    "# s\n",
    "m.init_notebook()\n",
    "\n",
    "# 較美畫法\n",
    "s = m.quiver3d(X,Y,Z,U,V,W)\n",
    "s"
   ]
  },
  {
   "cell_type": "markdown",
   "metadata": {},
   "source": [
    "### Ex. 5.4 (p.372)"
   ]
  },
  {
   "cell_type": "markdown",
   "metadata": {},
   "source": [
    "Find the coordinates of \n",
    "$  \n",
    "w = \n",
    "\\left [\n",
    "\\begin{matrix}\n",
    "1 \\\\\n",
    "2 \\\\\n",
    "3 \\\\\n",
    "\\end{matrix}\n",
    "\\right ]\n",
    "$\n",
    "with respect to the orthogonal basis $\\beta = {v_{1}, v_{2}, v_{3}}$ of Example 5.1 and 5.2 "
   ]
  },
  {
   "cell_type": "code",
   "execution_count": 18,
   "metadata": {},
   "outputs": [
    {
     "data": {
      "text/latex": [
       "$$\\left[\\begin{matrix}1\\\\2\\\\3\\end{matrix}\\right]$$"
      ],
      "text/plain": [
       "⎡1⎤\n",
       "⎢ ⎥\n",
       "⎢2⎥\n",
       "⎢ ⎥\n",
       "⎣3⎦"
      ]
     },
     "execution_count": 18,
     "metadata": {},
     "output_type": "execute_result"
    }
   ],
   "source": [
    "w = np.array([1, 2, 3])\n",
    "sp.Matrix(w)"
   ]
  },
  {
   "cell_type": "code",
   "execution_count": 19,
   "metadata": {},
   "outputs": [
    {
     "data": {
      "image/png": "[encoded data removed]",
      "text/latex": [
       "$$0.16666666666666666$$"
      ],
      "text/plain": [
       "0.16666666666666666"
      ]
     },
     "execution_count": 19,
     "metadata": {},
     "output_type": "execute_result"
    }
   ],
   "source": [
    "c1 = (w @ v1) / (v1 @ v1)\n",
    "c1"
   ]
  },
  {
   "cell_type": "code",
   "execution_count": 20,
   "metadata": {},
   "outputs": [
    {
     "data": {
      "image/png": "[encoded data removed]",
      "text/latex": [
       "$$\\frac{1}{6}$$"
      ],
      "text/plain": [
       "1/6"
      ]
     },
     "execution_count": 20,
     "metadata": {},
     "output_type": "execute_result"
    }
   ],
   "source": [
    "c1 = sp.S(w @ v1)/ (v1 @ v1)\n",
    "c1"
   ]
  },
  {
   "cell_type": "code",
   "execution_count": 21,
   "metadata": {},
   "outputs": [
    {
     "data": {
      "image/png": "[encoded data removed]",
      "text/latex": [
       "$$\\frac{5}{2}$$"
      ],
      "text/plain": [
       "5/2"
      ]
     },
     "execution_count": 21,
     "metadata": {},
     "output_type": "execute_result"
    }
   ],
   "source": [
    "c2 = sp.S(w @ v2) / (v2 @ v2)\n",
    "c2"
   ]
  },
  {
   "cell_type": "code",
   "execution_count": 22,
   "metadata": {},
   "outputs": [
    {
     "data": {
      "image/png": "[encoded data removed]",
      "text/latex": [
       "$$0.666666666666667$$"
      ],
      "text/plain": [
       "0.666666666666667"
      ]
     },
     "execution_count": 22,
     "metadata": {},
     "output_type": "execute_result"
    }
   ],
   "source": [
    "c3 = sp.S(w @ v3) / (v3 @ v3)\n",
    "c3"
   ]
  },
  {
   "cell_type": "code",
   "execution_count": 23,
   "metadata": {},
   "outputs": [
    {
     "data": {
      "text/latex": [
       "$$\\left[\\begin{matrix}\\frac{1}{6}\\\\\\frac{5}{2}\\\\0.666666666666667\\end{matrix}\\right]$$"
      ],
      "text/plain": [
       "⎡       1/6       ⎤\n",
       "⎢                 ⎥\n",
       "⎢       5/2       ⎥\n",
       "⎢                 ⎥\n",
       "⎣0.666666666666667⎦"
      ]
     },
     "execution_count": 23,
     "metadata": {},
     "output_type": "execute_result"
    }
   ],
   "source": [
    "sp.Matrix([c1, c2, c3])"
   ]
  },
  {
   "cell_type": "markdown",
   "metadata": {},
   "source": [
    "### Ex. 5.5 (p.372)"
   ]
  },
  {
   "cell_type": "markdown",
   "metadata": {},
   "source": [
    "Show that $S = {q_{1}, q_{2}}$ is an orthonormal set in $R^{3}$ if \n",
    "$  \n",
    "q_{1} = \n",
    "\\left [\n",
    "\\begin{matrix}\n",
    "1 / \\sqrt{3} \\\\\n",
    "-1 / \\sqrt{3}  \\\\\n",
    "1 / \\sqrt{3} \\\\\n",
    "\\end{matrix}\n",
    "\\right ]\n",
    "$ and \n",
    "$  \n",
    "q_{1} = \n",
    "\\left [\n",
    "\\begin{matrix}\n",
    "1 / \\sqrt{6} \\\\\n",
    "2 / \\sqrt{6}  \\\\\n",
    "1 / \\sqrt{6} \\\\\n",
    "\\end{matrix}\n",
    "\\right ]\n",
    "$\n"
   ]
  },
  {
   "cell_type": "code",
   "execution_count": 24,
   "metadata": {},
   "outputs": [],
   "source": [
    "from math import *"
   ]
  },
  {
   "cell_type": "code",
   "execution_count": 25,
   "metadata": {},
   "outputs": [
    {
     "data": {
      "text/latex": [
       "$$\\left[\\begin{matrix}0.577350269189626\\\\-0.577350269189626\\\\0.577350269189626\\end{matrix}\\right]$$"
      ],
      "text/plain": [
       "⎡0.577350269189626 ⎤\n",
       "⎢                  ⎥\n",
       "⎢-0.577350269189626⎥\n",
       "⎢                  ⎥\n",
       "⎣0.577350269189626 ⎦"
      ]
     },
     "execution_count": 25,
     "metadata": {},
     "output_type": "execute_result"
    }
   ],
   "source": [
    "q1 = np.array([1/sqrt(3), -1/sqrt(3), 1/sqrt(3)])\n",
    "sp.Matrix(q1)"
   ]
  },
  {
   "cell_type": "code",
   "execution_count": 26,
   "metadata": {},
   "outputs": [
    {
     "data": {
      "text/latex": [
       "$$\\left[\\begin{matrix}0.408248290463863\\\\0.816496580927726\\\\0.408248290463863\\end{matrix}\\right]$$"
      ],
      "text/plain": [
       "⎡0.408248290463863⎤\n",
       "⎢                 ⎥\n",
       "⎢0.816496580927726⎥\n",
       "⎢                 ⎥\n",
       "⎣0.408248290463863⎦"
      ]
     },
     "execution_count": 26,
     "metadata": {},
     "output_type": "execute_result"
    }
   ],
   "source": [
    "q2 = np.array([1/sqrt(6), 2/sqrt(6), 1/sqrt(6)])\n",
    "sp.Matrix(q2)"
   ]
  },
  {
   "cell_type": "code",
   "execution_count": 27,
   "metadata": {},
   "outputs": [
    {
     "data": {
      "image/png": "[encoded data removed]",
      "text/latex": [
       "$$0.0$$"
      ],
      "text/plain": [
       "0.0"
      ]
     },
     "execution_count": 27,
     "metadata": {},
     "output_type": "execute_result"
    }
   ],
   "source": [
    "q1 @ q2"
   ]
  },
  {
   "cell_type": "code",
   "execution_count": 28,
   "metadata": {},
   "outputs": [
    {
     "data": {
      "image/png": "[encoded data removed]",
      "text/latex": [
       "$$1.0000000000000002$$"
      ],
      "text/plain": [
       "1.0000000000000002"
      ]
     },
     "execution_count": 28,
     "metadata": {},
     "output_type": "execute_result"
    }
   ],
   "source": [
    "q1 @ q1"
   ]
  },
  {
   "cell_type": "code",
   "execution_count": 29,
   "metadata": {},
   "outputs": [
    {
     "data": {
      "image/png": "[encoded data removed]",
      "text/latex": [
       "$$1.0000000000000002$$"
      ],
      "text/plain": [
       "1.0000000000000002"
      ]
     },
     "execution_count": 29,
     "metadata": {},
     "output_type": "execute_result"
    }
   ],
   "source": [
    "q2 @ q2"
   ]
  },
  {
   "cell_type": "markdown",
   "metadata": {},
   "source": [
    "### Ex. 5.6 (p.373)"
   ]
  },
  {
   "cell_type": "markdown",
   "metadata": {},
   "source": [
    "Construct an orhtonormal basis for $ R^{3}$ from the vectors in Example 5.1."
   ]
  },
  {
   "cell_type": "code",
   "execution_count": 30,
   "metadata": {},
   "outputs": [
    {
     "data": {
      "text/plain": [
       "array([ 0.81649658,  0.40824829, -0.40824829])"
      ]
     },
     "execution_count": 30,
     "metadata": {},
     "output_type": "execute_result"
    }
   ],
   "source": [
    "q1 = v1 / np.linalg.norm(v1)\n",
    "q1"
   ]
  },
  {
   "cell_type": "code",
   "execution_count": 31,
   "metadata": {},
   "outputs": [
    {
     "data": {
      "text/plain": [
       "array([0.        , 0.70710678, 0.70710678])"
      ]
     },
     "execution_count": 31,
     "metadata": {},
     "output_type": "execute_result"
    }
   ],
   "source": [
    "q2 = v2 / np.linalg.norm(v2)\n",
    "q2"
   ]
  },
  {
   "cell_type": "code",
   "execution_count": null,
   "metadata": {},
   "outputs": [],
   "source": [
    "q3 = v3 / np.linalg.norm(v3)\n",
    "q3"
   ]
  },
  {
   "cell_type": "markdown",
   "metadata": {},
   "source": [
    "## * Section 5.2  Orthogonal Complements and Orthogonal Projections"
   ]
  },
  {
   "cell_type": "markdown",
   "metadata": {},
   "source": [
    "### Ex. 5.9 (p.380)"
   ]
  },
  {
   "cell_type": "markdown",
   "metadata": {},
   "source": [
    "Find bases for the four fundamental subspaces of \n",
    "$\n",
    "A=\\left [\n",
    "\\begin{matrix}\n",
    "1 & 1 & 3 & 1 & 6 \\\\\n",
    "2 & -1 & 0 & 1 & -1  \\\\\n",
    "-3 & 2 & 1 & -2 & 1 \\\\\n",
    "4 & 1 & 6 & 1 & 3\n",
    "\\end{matrix}\n",
    "\\right ]\n",
    "$ \n",
    "and verify Theorem 5.10."
   ]
  },
  {
   "cell_type": "code",
   "execution_count": 32,
   "metadata": {},
   "outputs": [
    {
     "data": {
      "text/latex": [
       "$$\\left[\\begin{matrix}1 & 1 & 3 & 1 & 6\\\\2 & -1 & 0 & 1 & -1\\\\-3 & 2 & 1 & -2 & 1\\\\4 & 1 & 6 & 1 & 3\\end{matrix}\\right]$$"
      ],
      "text/plain": [
       "⎡1   1   3  1   6 ⎤\n",
       "⎢                 ⎥\n",
       "⎢2   -1  0  1   -1⎥\n",
       "⎢                 ⎥\n",
       "⎢-3  2   1  -2  1 ⎥\n",
       "⎢                 ⎥\n",
       "⎣4   1   6  1   3 ⎦"
      ]
     },
     "execution_count": 32,
     "metadata": {},
     "output_type": "execute_result"
    }
   ],
   "source": [
    "A = sp.Matrix([[1, 1, 3, 1, 6], \n",
    "               [2, -1, 0, 1, -1],\n",
    "               [-3, 2, 1, -2, 1],\n",
    "               [4, 1, 6, 1, 3]])\n",
    "A"
   ]
  },
  {
   "cell_type": "code",
   "execution_count": 33,
   "metadata": {},
   "outputs": [
    {
     "data": {
      "text/latex": [
       "$$\\left [ \\left[\\begin{matrix}1 & 1 & 3 & 1 & 6\\end{matrix}\\right], \\quad \\left[\\begin{matrix}0 & -3 & -6 & -1 & -13\\end{matrix}\\right], \\quad \\left[\\begin{matrix}0 & 0 & 0 & 2 & 8\\end{matrix}\\right]\\right ]$$"
      ],
      "text/plain": [
       "[[1  1  3  1  6], [0  -3  -6  -1  -13], [0  0  0  2  8]]"
      ]
     },
     "execution_count": 33,
     "metadata": {},
     "output_type": "execute_result"
    }
   ],
   "source": [
    "A.rowspace()"
   ]
  },
  {
   "cell_type": "code",
   "execution_count": 34,
   "metadata": {},
   "outputs": [
    {
     "data": {
      "text/latex": [
       "$$\\left [ \\left[\\begin{matrix}-1\\\\-2\\\\1\\\\0\\\\0\\end{matrix}\\right], \\quad \\left[\\begin{matrix}1\\\\-3\\\\0\\\\-4\\\\1\\end{matrix}\\right]\\right ]$$"
      ],
      "text/plain": [
       "⎡⎡-1⎤  ⎡1 ⎤⎤\n",
       "⎢⎢  ⎥  ⎢  ⎥⎥\n",
       "⎢⎢-2⎥  ⎢-3⎥⎥\n",
       "⎢⎢  ⎥  ⎢  ⎥⎥\n",
       "⎢⎢1 ⎥, ⎢0 ⎥⎥\n",
       "⎢⎢  ⎥  ⎢  ⎥⎥\n",
       "⎢⎢0 ⎥  ⎢-4⎥⎥\n",
       "⎢⎢  ⎥  ⎢  ⎥⎥\n",
       "⎣⎣0 ⎦  ⎣1 ⎦⎦"
      ]
     },
     "execution_count": 34,
     "metadata": {},
     "output_type": "execute_result"
    }
   ],
   "source": [
    "A.nullspace()   # https://docs.sympy.org/latest/tutorial/matrices.html"
   ]
  },
  {
   "cell_type": "code",
   "execution_count": 35,
   "metadata": {},
   "outputs": [
    {
     "data": {
      "text/latex": [
       "$$\\left [ \\left[\\begin{matrix}1\\\\2\\\\-3\\\\4\\end{matrix}\\right], \\quad \\left[\\begin{matrix}1\\\\-1\\\\2\\\\1\\end{matrix}\\right], \\quad \\left[\\begin{matrix}1\\\\1\\\\-2\\\\1\\end{matrix}\\right]\\right ]$$"
      ],
      "text/plain": [
       "⎡⎡1 ⎤  ⎡1 ⎤  ⎡1 ⎤⎤\n",
       "⎢⎢  ⎥  ⎢  ⎥  ⎢  ⎥⎥\n",
       "⎢⎢2 ⎥  ⎢-1⎥  ⎢1 ⎥⎥\n",
       "⎢⎢  ⎥, ⎢  ⎥, ⎢  ⎥⎥\n",
       "⎢⎢-3⎥  ⎢2 ⎥  ⎢-2⎥⎥\n",
       "⎢⎢  ⎥  ⎢  ⎥  ⎢  ⎥⎥\n",
       "⎣⎣4 ⎦  ⎣1 ⎦  ⎣1 ⎦⎦"
      ]
     },
     "execution_count": 35,
     "metadata": {},
     "output_type": "execute_result"
    }
   ],
   "source": [
    "A.columnspace()"
   ]
  },
  {
   "cell_type": "code",
   "execution_count": 36,
   "metadata": {},
   "outputs": [
    {
     "data": {
      "text/latex": [
       "$$\\left [ \\left[\\begin{matrix}-1\\\\-6\\\\-3\\\\1\\end{matrix}\\right]\\right ]$$"
      ],
      "text/plain": [
       "⎡⎡-1⎤⎤\n",
       "⎢⎢  ⎥⎥\n",
       "⎢⎢-6⎥⎥\n",
       "⎢⎢  ⎥⎥\n",
       "⎢⎢-3⎥⎥\n",
       "⎢⎢  ⎥⎥\n",
       "⎣⎣1 ⎦⎦"
      ]
     },
     "execution_count": 36,
     "metadata": {},
     "output_type": "execute_result"
    }
   ],
   "source": [
    "A.T.nullspace()"
   ]
  },
  {
   "cell_type": "code",
   "execution_count": 37,
   "metadata": {
    "scrolled": true
   },
   "outputs": [
    {
     "data": {
      "text/latex": [
       "$$\\left ( \\left[\\begin{matrix}1 & 0 & 0 & 1\\\\0 & 1 & 0 & 6\\\\0 & 0 & 1 & 3\\\\0 & 0 & 0 & 0\\\\0 & 0 & 0 & 0\\end{matrix}\\right], \\quad \\left ( 0, \\quad 1, \\quad 2\\right )\\right )$$"
      ],
      "text/plain": [
       "⎛⎡1  0  0  1⎤           ⎞\n",
       "⎜⎢          ⎥           ⎟\n",
       "⎜⎢0  1  0  6⎥           ⎟\n",
       "⎜⎢          ⎥           ⎟\n",
       "⎜⎢0  0  1  3⎥, (0, 1, 2)⎟\n",
       "⎜⎢          ⎥           ⎟\n",
       "⎜⎢0  0  0  0⎥           ⎟\n",
       "⎜⎢          ⎥           ⎟\n",
       "⎝⎣0  0  0  0⎦           ⎠"
      ]
     },
     "execution_count": 37,
     "metadata": {},
     "output_type": "execute_result"
    }
   ],
   "source": [
    "A.T.rref()   # rref() : reduced row echelon form"
   ]
  },
  {
   "cell_type": "code",
   "execution_count": 38,
   "metadata": {},
   "outputs": [
    {
     "data": {
      "image/png": "[encoded data removed]",
      "text/latex": [
       "$$\\left ( 0, \\quad 1, \\quad 3\\right )$$"
      ],
      "text/plain": [
       "(0, 1, 3)"
      ]
     },
     "execution_count": 38,
     "metadata": {},
     "output_type": "execute_result"
    }
   ],
   "source": [
    "r = A.rref()[1]\n",
    "r"
   ]
  },
  {
   "cell_type": "markdown",
   "metadata": {},
   "source": [
    "### Ex. 5.10 (p.381)"
   ]
  },
  {
   "cell_type": "markdown",
   "metadata": {},
   "source": [
    "Let W be the subspace of $R^{5}$ spanned by  \n",
    "$\n",
    "w_{1}=\\left [\n",
    "\\begin{matrix}\n",
    "1 \\\\\n",
    "-3 \\\\\n",
    "5 \\\\\n",
    "0 \\\\\n",
    "5 \\\\\n",
    "\\end{matrix}\n",
    "\\right ]\n",
    "$, \n",
    "$\n",
    "w_{2}=\\left [\n",
    "\\begin{matrix}\n",
    "-1 \\\\\n",
    "1 \\\\\n",
    "2 \\\\\n",
    "-2 \\\\\n",
    "3 \\\\\n",
    "\\end{matrix}\n",
    "\\right ]\n",
    "$, \n",
    "$\n",
    "w_{3}=\\left [\n",
    "\\begin{matrix}\n",
    "0 \\\\\n",
    "-1 \\\\\n",
    "4 \\\\\n",
    "-1 \\\\\n",
    "5 \\\\\n",
    "\\end{matrix}\n",
    "\\right ]\n",
    "$"
   ]
  },
  {
   "cell_type": "code",
   "execution_count": null,
   "metadata": {},
   "outputs": [],
   "source": [
    "A = sp.Matrix([[1, -1, 0], \n",
    "               [-3, 1, -1],\n",
    "               [5, 2, 4],\n",
    "               [0, -2, -1],\n",
    "               [5, 3, 5]])\n",
    "A"
   ]
  },
  {
   "cell_type": "code",
   "execution_count": null,
   "metadata": {},
   "outputs": [],
   "source": [
    "A.columnspace()"
   ]
  },
  {
   "cell_type": "code",
   "execution_count": null,
   "metadata": {},
   "outputs": [],
   "source": [
    "A.T.nullspace()"
   ]
  },
  {
   "cell_type": "markdown",
   "metadata": {},
   "source": [
    "## * Section 5.3  The Gram-Schmidt Process and the QR Factorization"
   ]
  },
  {
   "cell_type": "code",
   "execution_count": 39,
   "metadata": {},
   "outputs": [
    {
     "data": {
      "text/latex": [
       "$$\\left[\\begin{matrix}1 & 2 & 2\\\\-1 & 1 & 2\\\\-1 & 0 & 1\\\\1 & 1 & 2\\end{matrix}\\right]$$"
      ],
      "text/plain": [
       "⎡1   2  2⎤\n",
       "⎢        ⎥\n",
       "⎢-1  1  2⎥\n",
       "⎢        ⎥\n",
       "⎢-1  0  1⎥\n",
       "⎢        ⎥\n",
       "⎣1   1  2⎦"
      ]
     },
     "execution_count": 39,
     "metadata": {},
     "output_type": "execute_result"
    }
   ],
   "source": [
    "A = sp.Matrix([[1, 2, 2], \n",
    "               [-1, 1, 2],\n",
    "               [-1, 0, 1],\n",
    "               [1, 1, 2]])\n",
    "A"
   ]
  },
  {
   "cell_type": "code",
   "execution_count": 40,
   "metadata": {},
   "outputs": [
    {
     "data": {
      "text/plain": [
       "(array([[-5.00000000e-01, -6.70820393e-01,  4.08248290e-01],\n",
       "        [ 5.00000000e-01, -6.70820393e-01,  1.00072696e-16],\n",
       "        [ 5.00000000e-01, -2.23606798e-01, -4.08248290e-01],\n",
       "        [-5.00000000e-01, -2.23606798e-01, -8.16496581e-01]]),\n",
       " array([[-2.        , -1.        , -0.5       ],\n",
       "        [ 0.        , -2.23606798, -3.35410197],\n",
       "        [ 0.        ,  0.        , -1.22474487]]))"
      ]
     },
     "execution_count": 40,
     "metadata": {},
     "output_type": "execute_result"
    }
   ],
   "source": [
    "np.linalg.qr(A)"
   ]
  },
  {
   "cell_type": "code",
   "execution_count": 41,
   "metadata": {},
   "outputs": [
    {
     "data": {
      "text/latex": [
       "$$\\left[\\begin{matrix}-0.5 & -0.670820393249937 & 0.408248290463863\\\\0.5 & -0.670820393249937 & 1.00072696249377 \\cdot 10^{-16}\\\\0.5 & -0.223606797749979 & -0.408248290463863\\\\-0.5 & -0.223606797749979 & -0.816496580927726\\end{matrix}\\right]$$"
      ],
      "text/plain": [
       "⎡-0.5  -0.670820393249937   0.408248290463863  ⎤\n",
       "⎢                                              ⎥\n",
       "⎢0.5   -0.670820393249937  1.00072696249377e-16⎥\n",
       "⎢                                              ⎥\n",
       "⎢0.5   -0.223606797749979   -0.408248290463863 ⎥\n",
       "⎢                                              ⎥\n",
       "⎣-0.5  -0.223606797749979   -0.816496580927726 ⎦"
      ]
     },
     "execution_count": 41,
     "metadata": {},
     "output_type": "execute_result"
    }
   ],
   "source": [
    "Q = np.linalg.qr(A)[0]\n",
    "sp.Matrix(Q)"
   ]
  },
  {
   "cell_type": "code",
   "execution_count": 42,
   "metadata": {},
   "outputs": [
    {
     "data": {
      "text/latex": [
       "$$\\left[\\begin{matrix}-2.0 & -1.0 & -0.5\\\\0.0 & -2.23606797749979 & -3.35410196624968\\\\0.0 & 0.0 & -1.22474487139159\\end{matrix}\\right]$$"
      ],
      "text/plain": [
       "⎡-2.0        -1.0               -0.5       ⎤\n",
       "⎢                                          ⎥\n",
       "⎢0.0   -2.23606797749979  -3.35410196624968⎥\n",
       "⎢                                          ⎥\n",
       "⎣0.0          0.0         -1.22474487139159⎦"
      ]
     },
     "execution_count": 42,
     "metadata": {},
     "output_type": "execute_result"
    }
   ],
   "source": [
    "R = np.linalg.qr(A)[1]\n",
    "sp.Matrix(R)"
   ]
  },
  {
   "cell_type": "code",
   "execution_count": 43,
   "metadata": {},
   "outputs": [
    {
     "data": {
      "text/latex": [
       "$$\\left[\\begin{matrix}-2.0 & -1.0 & -0.5\\\\5.55111512312578 \\cdot 10^{-17} & -2.23606797749979 & -3.35410196624968\\\\-1.11022302462516 \\cdot 10^{-16} & 0 & -1.22474487139159\\end{matrix}\\right]$$"
      ],
      "text/plain": [
       "⎡        -2.0                 -1.0               -0.5       ⎤\n",
       "⎢                                                           ⎥\n",
       "⎢5.55111512312578e-17   -2.23606797749979  -3.35410196624968⎥\n",
       "⎢                                                           ⎥\n",
       "⎣-1.11022302462516e-16          0          -1.22474487139159⎦"
      ]
     },
     "execution_count": 43,
     "metadata": {},
     "output_type": "execute_result"
    }
   ],
   "source": [
    "Q.T @ A"
   ]
  },
  {
   "cell_type": "code",
   "execution_count": 44,
   "metadata": {},
   "outputs": [
    {
     "data": {
      "text/latex": [
       "$$\\left[\\begin{matrix}0 & 0 & 0\\\\5.55111512312578 \\cdot 10^{-17} & 0 & -8.88178419700125 \\cdot 10^{-16}\\\\-1.11022302462516 \\cdot 10^{-16} & 0 & 4.44089209850063 \\cdot 10^{-16}\\end{matrix}\\right]$$"
      ],
      "text/plain": [
       "⎡          0            0            0          ⎤\n",
       "⎢                                               ⎥\n",
       "⎢5.55111512312578e-17   0  -8.88178419700125e-16⎥\n",
       "⎢                                               ⎥\n",
       "⎣-1.11022302462516e-16  0  4.44089209850063e-16 ⎦"
      ]
     },
     "execution_count": 44,
     "metadata": {},
     "output_type": "execute_result"
    }
   ],
   "source": [
    "Q.T @ A - R"
   ]
  },
  {
   "cell_type": "markdown",
   "metadata": {},
   "source": [
    "## * Determine whether the given orthogonal set of vectors is orthogonal. If it is not, normalize the vectors to form an orthonormal set. "
   ]
  },
  {
   "cell_type": "markdown",
   "metadata": {},
   "source": [
    "$$\n",
    "\\left [\n",
    "\\begin{matrix}\n",
    "\\frac{1}{2}\t \\\\\n",
    "\\frac{1}{2}\t  \\\\\n",
    "\\end{matrix}\n",
    "\\right ],\n",
    "\\left [\n",
    "\\begin{matrix}\n",
    "\\frac{1}{2}\t \\\\\n",
    "\\frac{-1}{2}\t  \\\\\n",
    "\\end{matrix}\n",
    "\\right ]\n",
    "$$"
   ]
  },
  {
   "cell_type": "markdown",
   "metadata": {},
   "source": [
    "$$v_{i}\\centerdot v_{j}$$"
   ]
  },
  {
   "cell_type": "code",
   "execution_count": 1,
   "metadata": {},
   "outputs": [
    {
     "data": {
      "image/png": "[encoded data removed]",
      "text/latex": [
       "$$0.0$$"
      ],
      "text/plain": [
       "0.0"
      ]
     },
     "execution_count": 1,
     "metadata": {},
     "output_type": "execute_result"
    }
   ],
   "source": [
    "import numpy as np\n",
    "import sympy as sp\n",
    "sp.init_printing()\n",
    "def IP(x,y):\n",
    "    xx=x.T\n",
    "    xy=np.dot(xx,y)\n",
    "    return xy.item(0)\n",
    "\n",
    "x=np.array([[0.5],\n",
    "           [0.5]])\n",
    "y=np.array([[0.5],\n",
    "           [-0.5]])\n",
    "IP(x,y)"
   ]
  },
  {
   "cell_type": "markdown",
   "metadata": {},
   "source": [
    "$$ q_{i}=\\frac{1}{\\left| v_{i} \\right|}v_{i} $$"
   ]
  },
  {
   "cell_type": "code",
   "execution_count": 3,
   "metadata": {},
   "outputs": [
    {
     "data": {
      "text/latex": [
       "$$\\left[\\begin{matrix}0.707106781186547\\\\-0.707106781186547\\end{matrix}\\right]$$"
      ],
      "text/plain": [
       "⎡0.707106781186547 ⎤\n",
       "⎢                  ⎥\n",
       "⎣-0.707106781186547⎦"
      ]
     },
     "execution_count": 3,
     "metadata": {},
     "output_type": "execute_result"
    }
   ],
   "source": [
    "x_unite = x / np.linalg.norm(x)\n",
    "y_unite = y / np.linalg.norm(y)\n",
    "sp.Matrix(x_unite)\n",
    "sp.Matrix(y_unite)"
   ]
  },
  {
   "cell_type": "markdown",
   "metadata": {},
   "source": [
    "$$\n",
    "\\left [\n",
    "\\begin{matrix}\n",
    "\\frac{1}{2}\t \\\\\n",
    "\\frac{1}{2}\t  \\\\\n",
    "\\frac{-1}{2}  \\\\\n",
    "\\frac{1}{2}\t  \\\\\n",
    "\\end{matrix}\n",
    "\\right ],\n",
    "\\left [\n",
    "\\begin{matrix}\n",
    "0\t \\\\\n",
    "\\frac{1}{3}\t  \\\\\n",
    "\\frac{2}{3}  \\\\\n",
    "\\frac{1}{3}\t  \\\\\n",
    "\\end{matrix}\n",
    "\\right ],\n",
    "\\left [\n",
    "\\begin{matrix}\n",
    "\\frac{1}{2}\t \\\\\n",
    "\\frac{-1}{6}\t  \\\\\n",
    "\\frac{1}{6}  \\\\\n",
    "\\frac{-1}{6}\t  \\\\\n",
    "\\end{matrix}\n",
    "\\right ]\n",
    "$$"
   ]
  },
  {
   "cell_type": "code",
   "execution_count": 4,
   "metadata": {},
   "outputs": [
    {
     "data": {
      "image/png": "[encoded data removed]",
      "text/latex": [
       "$$0.0$$"
      ],
      "text/plain": [
       "0.0"
      ]
     },
     "execution_count": 4,
     "metadata": {},
     "output_type": "execute_result"
    }
   ],
   "source": [
    "import numpy as np\n",
    "import sympy as sp\n",
    "sp.init_printing()\n",
    "\n",
    "def IP(x,y):\n",
    "    xx=x.T\n",
    "    xy=np.dot(xx,y)\n",
    "    return xy.item(0)\n",
    "\n",
    "x=np.array([[0.5],\n",
    "           [0.5],\n",
    "           [-0.5],\n",
    "           [0.5]])\n",
    "y=np.array([[0],\n",
    "           [1/3],\n",
    "           [2/3],\n",
    "           [1/3]])\n",
    "z=np.array([[1/2],\n",
    "           [-1/6],\n",
    "           [1/6],\n",
    "           [-1/6]])\n",
    "IP(x,y)\n",
    "IP(x,z)\n",
    "IP(y,z)"
   ]
  },
  {
   "cell_type": "code",
   "execution_count": 5,
   "metadata": {},
   "outputs": [
    {
     "data": {
      "text/latex": [
       "$$\\left[\\begin{matrix}0.866025403784438\\\\-0.288675134594813\\\\0.288675134594813\\\\-0.288675134594813\\end{matrix}\\right]$$"
      ],
      "text/plain": [
       "⎡0.866025403784438 ⎤\n",
       "⎢                  ⎥\n",
       "⎢-0.288675134594813⎥\n",
       "⎢                  ⎥\n",
       "⎢0.288675134594813 ⎥\n",
       "⎢                  ⎥\n",
       "⎣-0.288675134594813⎦"
      ]
     },
     "execution_count": 5,
     "metadata": {},
     "output_type": "execute_result"
    }
   ],
   "source": [
    "x_unite = x / np.linalg.norm(x)\n",
    "y_unite = y / np.linalg.norm(y)\n",
    "z_unite = z / np.linalg.norm(z)\n",
    "sp.Matrix(x_unite)\n",
    "sp.Matrix(y_unite)\n",
    "sp.Matrix(z_unite)"
   ]
  },
  {
   "cell_type": "markdown",
   "metadata": {},
   "source": [
    "## * Fill in the missing entries of Q to make Q an orhtogonal matrix\n",
    "$$\n",
    "Q=\n",
    "\\left [\n",
    "\\begin{matrix}\n",
    "\\frac{1}{\\sqrt{2}} & \\frac{1}{\\sqrt{3}} & *  \\\\\n",
    "0 & \\frac{1}{\\sqrt{3}} & *  \\\\\n",
    "\\frac{-1}{\\sqrt{2}} & \\frac{1}{\\sqrt{3}} & * \\\\\n",
    "\\end{matrix}\n",
    "\\right ]\n",
    "$$"
   ]
  },
  {
   "cell_type": "markdown",
   "metadata": {},
   "source": [
    "Let $ x_{1}, x_{2}, x_{3} $ to be column vectors of A, in which\n",
    "$\n",
    "x_{1}=\\left [\n",
    "\\begin{matrix}\n",
    "\\frac{1}{\\sqrt{2}}\t \\\\\n",
    "0\t  \\\\\n",
    "\\frac{-1}{\\sqrt{2}}  \\\\\n",
    "\\end{matrix}\n",
    "\\right ],\n",
    "x_{2}=\\left [\n",
    "\\begin{matrix}\n",
    "\\frac{1}{\\sqrt{3}}\t \\\\\n",
    "\\frac{1}{\\sqrt{3}}\t  \\\\\n",
    "\\frac{1}{\\sqrt{3}}  \\\\\n",
    "\\end{matrix}\n",
    "\\right ]\n",
    "$, such  that $ x_{1}, x_{2}, x_{3} $ are linear independent:  \n",
    "Let\n",
    "$ x_{3}=\\left [\n",
    "\\begin{matrix}\n",
    "1\t \\\\\n",
    "0\t  \\\\\n",
    "0  \\\\\n",
    "\\end{matrix}\n",
    "\\right ]\n",
    "$ \n",
    "and Determine whether $ \\det A $ equals 0.  \n",
    "If $ \\det A $ $\\neq$ 0, then $ x_{1}, x_{2}, x_{3} $ are linear independent, and $x_{3} $ can be \n",
    "$\n",
    "\\left [\n",
    "\\begin{matrix}\n",
    "1\t \\\\\n",
    "0\t  \\\\\n",
    "0  \\\\\n",
    "\\end{matrix}\n",
    "\\right ]\n",
    "$"
   ]
  },
  {
   "cell_type": "code",
   "execution_count": 6,
   "metadata": {},
   "outputs": [
    {
     "data": {
      "text/plain": [
       "False"
      ]
     },
     "execution_count": 6,
     "metadata": {},
     "output_type": "execute_result"
    }
   ],
   "source": [
    "import numpy as np\n",
    "A=np.array([[1/np.sqrt(2),1/np.sqrt(3),1],\n",
    "           [0,1/np.sqrt(3),0],\n",
    "           [-1/np.sqrt(2),1/np.sqrt(3),0]])\n",
    "\n",
    "det_A=np.linalg.det(A)\n",
    "\n",
    "det_A==0"
   ]
  },
  {
   "cell_type": "markdown",
   "metadata": {},
   "source": [
    "Let $v_{1}, v_{2}, v_{3} $ to be column vectors of Q, in which  $v_{1}=x_{1}, v_{2}=x_{2}$, such that Q is an orthogonal matrix.  \n",
    "Given $\n",
    "x_{1}=\\left [\n",
    "\\begin{matrix}\n",
    "\\frac{1}{\\sqrt{2}}\t \\\\\n",
    "0\t  \\\\\n",
    "\\frac{-1}{\\sqrt{2}}  \\\\\n",
    "\\end{matrix}\n",
    "\\right ],\n",
    "x_{2}=\\left [\n",
    "\\begin{matrix}\n",
    "\\frac{1}{\\sqrt{3}}\t \\\\\n",
    "\\frac{1}{\\sqrt{3}}\t  \\\\\n",
    "\\frac{1}{\\sqrt{3}}  \\\\\n",
    "\\end{matrix}\n",
    "\\right ],\n",
    "x_{3}=\\left [\n",
    "\\begin{matrix}\n",
    "1\t \\\\\n",
    "0\t  \\\\\n",
    "0  \\\\\n",
    "\\end{matrix}\n",
    "\\right ]\n",
    "$, \n",
    "all of which are in $ R^{3} $ and linear independent, according to the Gram-Schmidt Process, $ v_{3} $ can be found:\n",
    "&nbsp;  \n",
    "$ v1=x1, $  \n",
    "$ v2=x1-(\\frac{v_{1} \\cdot x_{2}}{v_{1} \\cdot v_{1}} )v_{1} $  \n",
    "$ v3=x1-(\\frac{v_{1} \\cdot x_{3}}{v_{1} \\cdot v_{1}} )v_{1}- (\\frac{v_{2} \\cdot x_{3}}{v_{2} \\cdot v_{2}} )v_{2}$\n"
   ]
  },
  {
   "cell_type": "code",
   "execution_count": 7,
   "metadata": {},
   "outputs": [
    {
     "data": {
      "text/latex": [
       "$$\\left[\\begin{matrix}0.408248290463863\\\\-0.816496580927726\\\\0.408248290463863\\end{matrix}\\right]$$"
      ],
      "text/plain": [
       "⎡0.408248290463863 ⎤\n",
       "⎢                  ⎥\n",
       "⎢-0.816496580927726⎥\n",
       "⎢                  ⎥\n",
       "⎣0.408248290463863 ⎦"
      ]
     },
     "execution_count": 7,
     "metadata": {},
     "output_type": "execute_result"
    }
   ],
   "source": [
    "import numpy as np\n",
    "import sympy as sp\n",
    "sp.init_printing()\n",
    "\n",
    "def IP(x,y):\n",
    "    xx=x.T\n",
    "    xy=np.dot(xx,y)\n",
    "    return xy.item(0)\n",
    "\n",
    "def GS(X,b,n):\n",
    "    v=[X]\n",
    "    for i in range(0,len(b)):\n",
    "        vv=b[i]\n",
    "        for j in v:\n",
    "            vv=vv-(IP(j,b[i])/IP(j,j))*j\n",
    "        vv=vv / np.linalg.norm(vv)\n",
    "        v.append(vv)\n",
    "    return v[n]\n",
    "\n",
    "x1=np.array([[1/np.sqrt(2)],\n",
    "              [0],\n",
    "              [-1/np.sqrt(2)]])\n",
    "x2=np.array([[1/np.sqrt(3)],\n",
    "              [1/np.sqrt(3)],\n",
    "              [1/np.sqrt(3)]])\n",
    "x3=np.array([[1],\n",
    "             [0],\n",
    "             [0]])\n",
    "X=x1\n",
    "b=[x2,x3]\n",
    "\n",
    "v1=GS(X,b,0)\n",
    "v2=GS(X,b,1)\n",
    "v3=GS(X,b,2)\n",
    "\n",
    "sp.Matrix(v3)\n",
    "\n",
    "#v1=x1\n",
    "#v2=x2-(IP(v1,x2)/IP(v1,v1))*v1\n",
    "#v3=x3-(IP(v1,x3)/IP(v1,v1))*v1-(IP(v2,x3)/IP(v2,v2))*v2\n",
    "#sp.Matrix(v3)"
   ]
  },
  {
   "cell_type": "code",
   "execution_count": 8,
   "metadata": {},
   "outputs": [
    {
     "data": {
      "text/latex": [
       "$$\\left[\\begin{matrix}0.707106781186547 & 0.577350269189626 & 0.408248290463863\\\\0.0 & 0.577350269189626 & -0.816496580927726\\\\-0.707106781186547 & 0.577350269189626 & 0.408248290463863\\end{matrix}\\right]$$"
      ],
      "text/plain": [
       "⎡0.707106781186547   0.577350269189626  0.408248290463863 ⎤\n",
       "⎢                                                         ⎥\n",
       "⎢       0.0          0.577350269189626  -0.816496580927726⎥\n",
       "⎢                                                         ⎥\n",
       "⎣-0.707106781186547  0.577350269189626  0.408248290463863 ⎦"
      ]
     },
     "execution_count": 8,
     "metadata": {},
     "output_type": "execute_result"
    }
   ],
   "source": [
    "Q=np.hstack((v1,v2,v3))\n",
    "sp.Matrix(Q)"
   ]
  },
  {
   "cell_type": "markdown",
   "metadata": {},
   "source": [
    "### Find the upper triangle matrix R such that A = QR\n",
    "$$\n",
    "A=\n",
    "\\left [\n",
    "\\begin{matrix}\n",
    "2 & 8 & 2  \\\\\n",
    "1 & 7 & -1  \\\\\n",
    "-2 & -2 & 1 \\\\\n",
    "\\end{matrix}\n",
    "\\right ],\n",
    "Q=\n",
    "\\left [\n",
    "\\begin{matrix}\n",
    "\\frac{2}{3} & \\frac{1}{3} & \\frac{2}{3}  \\\\\n",
    "\\frac{1}{3} & \\frac{2}{3} & \\frac{-2}{3}  \\\\\n",
    "\\frac{-2}{3} & \\frac{2}{3} & \\frac{1}{3} \\\\\n",
    "\\end{matrix}\n",
    "\\right ]\n",
    "$$  \n",
    "$$ Q^{T}A=R $$"
   ]
  },
  {
   "cell_type": "code",
   "execution_count": 9,
   "metadata": {},
   "outputs": [
    {
     "data": {
      "text/latex": [
       "$$\\left[\\begin{matrix}9 & 27 & 1\\\\27 & 117 & 7\\\\1 & 7 & 6\\end{matrix}\\right]$$"
      ],
      "text/plain": [
       "⎡9   27   1⎤\n",
       "⎢          ⎥\n",
       "⎢27  117  7⎥\n",
       "⎢          ⎥\n",
       "⎣1    7   6⎦"
      ]
     },
     "execution_count": 9,
     "metadata": {},
     "output_type": "execute_result"
    }
   ],
   "source": [
    "import numpy as np\n",
    "import sympy as sp\n",
    "sp.init_printing()\n",
    "\n",
    "A=np.array([[2,8,2],\n",
    "            [1,7,-1],\n",
    "            [-2,-2,1]])\n",
    "Q=np.array([[2,8,2],\n",
    "           [1,7,-1],\n",
    "           [-2,-2,1]])\n",
    "R=Q.T@A\n",
    "\n",
    "sp.Matrix(R)"
   ]
  },
  {
   "cell_type": "markdown",
   "metadata": {},
   "source": [
    "## * Orthogonally diagonalize the matrices by finding an orhtogonal matrix Q and a diagonal matrix D such that $ Q^{T}AQ = D $"
   ]
  },
  {
   "cell_type": "markdown",
   "metadata": {},
   "source": [
    "$\n",
    "A=\n",
    "\\left [\n",
    "\\begin{matrix}\n",
    "1 & 0 & -1  \\\\\n",
    "0 & 1 & 0  \\\\\n",
    "-1 & 0 & 1 \\\\\n",
    "\\end{matrix}\n",
    "\\right ]\n",
    "$"
   ]
  },
  {
   "cell_type": "code",
   "execution_count": 10,
   "metadata": {},
   "outputs": [],
   "source": [
    "import numpy as np\n",
    "import sympy as sp\n",
    "sp.init_printing()\n",
    "from IPython.core.interactiveshell import InteractiveShell\n",
    "InteractiveShell.ast_node_interactivity = \"all\""
   ]
  },
  {
   "cell_type": "markdown",
   "metadata": {},
   "source": [
    "According to Theorem 4.23, A is diagonalizable if and only if A has n linearly independent eigenvectors. Then D=$ P^{-1} $$ A^{} $$ P^{} $, where the columns of P are eigenvectors of A, and the diagonal entries of D are eigenvalues of A."
   ]
  },
  {
   "cell_type": "markdown",
   "metadata": {},
   "source": [
    "Given the determinant of eigenvectors of A is not zero, the eigenvectors of A is linearly independent, and A is diagonalizable."
   ]
  },
  {
   "cell_type": "code",
   "execution_count": 11,
   "metadata": {},
   "outputs": [
    {
     "data": {
      "image/png": "[encoded data removed]",
      "text/latex": [
       "$$-0.9999999999999998$$"
      ],
      "text/plain": [
       "-0.9999999999999998"
      ]
     },
     "execution_count": 11,
     "metadata": {},
     "output_type": "execute_result"
    }
   ],
   "source": [
    "A = np.array([[1,0,-1],\n",
    "              [0,1,0],\n",
    "              [-1,0,1]])\n",
    "eigenvector=np.linalg.eig(A)[1]\n",
    "np.linalg.det(eigenvector)"
   ]
  },
  {
   "cell_type": "markdown",
   "metadata": {},
   "source": [
    "According to Theorem 5.19, If A is a symmetric matrix, then any two eigenvectors corresponding to distinct eigenvalues of A are orthogonal"
   ]
  },
  {
   "cell_type": "markdown",
   "metadata": {},
   "source": [
    "Given that A is symmetric matrix and all its eigenvalues are distinct, all the eigenvectors of A are orthogonal to each other."
   ]
  },
  {
   "cell_type": "code",
   "execution_count": 12,
   "metadata": {},
   "outputs": [
    {
     "data": {
      "text/latex": [
       "$$\\left[\\begin{matrix}1 & 0 & -1\\\\0 & 1 & 0\\\\-1 & 0 & 1\\end{matrix}\\right]$$"
      ],
      "text/plain": [
       "⎡1   0  -1⎤\n",
       "⎢         ⎥\n",
       "⎢0   1  0 ⎥\n",
       "⎢         ⎥\n",
       "⎣-1  0  1 ⎦"
      ]
     },
     "execution_count": 12,
     "metadata": {},
     "output_type": "execute_result"
    },
    {
     "data": {
      "text/plain": [
       "array([2., 0., 1.])"
      ]
     },
     "execution_count": 12,
     "metadata": {},
     "output_type": "execute_result"
    }
   ],
   "source": [
    "sp.Matrix(A)\n",
    "\n",
    "eigenvalue=np.linalg.eig(A)[0]\n",
    "eigenvalue"
   ]
  },
  {
   "cell_type": "markdown",
   "metadata": {},
   "source": [
    "Accoring to Theorem 5.5, A square matix Q is orthogonal if and only if $ Q^{-1}=Q^{T}$.  \n",
    "Given D=$ P^{-1} $$ A^{} $$ P^{} $, where P is orthogonal, $ P^{-1}=P^{T}$ and D=$ P^{T} $$ A^{} $$ P^{} $"
   ]
  },
  {
   "cell_type": "markdown",
   "metadata": {},
   "source": [
    "Make P be a orthogonal matrix, in which there is an orthogonal set of unit vector"
   ]
  },
  {
   "cell_type": "code",
   "execution_count": 13,
   "metadata": {},
   "outputs": [],
   "source": [
    "eigenvector1=eigenvector[:,0].reshape(-1,1)\n",
    "eigenvector2=eigenvector[:,1].reshape(-1,1)\n",
    "eigenvector3=eigenvector[:,2].reshape(-1,1)\n",
    "\n",
    "q1=eigenvector1 / np.linalg.norm(eigenvector1)\n",
    "q2=eigenvector2 / np.linalg.norm(eigenvector2)\n",
    "q3=eigenvector3 / np.linalg.norm(eigenvector3)"
   ]
  },
  {
   "cell_type": "markdown",
   "metadata": {},
   "source": [
    "According to Definition, A square matirx A is orthogonally diagonalizable if there exists an orthogonal matrix Q and a diagonal matix D such that D=$ Q^{T} $$ A^{} $$ Q^{} $"
   ]
  },
  {
   "cell_type": "markdown",
   "metadata": {},
   "source": [
    "Given ,D=$ P^{T} $$ A^{} $$ P^{} $, where P is orthogonal matrix and D is diagonal, matirx A is orthogonally diagonalizable"
   ]
  },
  {
   "cell_type": "code",
   "execution_count": 15,
   "metadata": {},
   "outputs": [
    {
     "data": {
      "text/latex": [
       "$$\\left[\\begin{matrix}0.707106781186548 & 0.707106781186548 & 0.0\\\\0.0 & 0.0 & 1.0\\\\-0.707106781186548 & 0.707106781186548 & 0.0\\end{matrix}\\right]$$"
      ],
      "text/plain": [
       "⎡0.707106781186548   0.707106781186548  0.0⎤\n",
       "⎢                                          ⎥\n",
       "⎢       0.0                 0.0         1.0⎥\n",
       "⎢                                          ⎥\n",
       "⎣-0.707106781186548  0.707106781186548  0.0⎦"
      ]
     },
     "execution_count": 15,
     "metadata": {},
     "output_type": "execute_result"
    },
    {
     "data": {
      "text/latex": [
       "$$\\left[\\begin{matrix}2.0 & 8.53284317717928 \\cdot 10^{-17} & 0.0\\\\0.0 & 0.0 & 0.0\\\\0.0 & 0.0 & 1.0\\end{matrix}\\right]$$"
      ],
      "text/plain": [
       "⎡2.0  8.53284317717928e-17  0.0⎤\n",
       "⎢                              ⎥\n",
       "⎢0.0          0.0           0.0⎥\n",
       "⎢                              ⎥\n",
       "⎣0.0          0.0           1.0⎦"
      ]
     },
     "execution_count": 15,
     "metadata": {},
     "output_type": "execute_result"
    }
   ],
   "source": [
    "Q=np.hstack((q1,q2,q3))\n",
    "D=Q.T@A@Q\n",
    "\n",
    "sp.Matrix(Q)\n",
    "sp.Matrix(D)"
   ]
  },
  {
   "cell_type": "markdown",
   "metadata": {},
   "source": [
    "According to spectral decomposition,  A = $\\lambda_{1}$$q_{1}$$q_{1}^{T}$ + ... + $\\lambda_{n}$$q_{n}$$q_{n}^{T}$"
   ]
  },
  {
   "cell_type": "code",
   "execution_count": 17,
   "metadata": {},
   "outputs": [
    {
     "data": {
      "text/latex": [
       "$$\\left[\\begin{matrix}1.0 & 0.0 & -1.0\\\\0.0 & 1.0 & 0.0\\\\-1.0 & 0.0 & 1.0\\end{matrix}\\right]$$"
      ],
      "text/plain": [
       "⎡1.0   0.0  -1.0⎤\n",
       "⎢               ⎥\n",
       "⎢0.0   1.0  0.0 ⎥\n",
       "⎢               ⎥\n",
       "⎣-1.0  0.0  1.0 ⎦"
      ]
     },
     "execution_count": 17,
     "metadata": {},
     "output_type": "execute_result"
    }
   ],
   "source": [
    "l1=eigenvalue[0]\n",
    "l2=eigenvalue[1]\n",
    "l3=eigenvalue[2]\n",
    "AA=l1*(q1 @ q1.T)+l2*(q2 @ q2.T)+l3*(q3 @ q3.T)\n",
    "\n",
    "sp.Matrix(AA)"
   ]
  },
  {
   "cell_type": "code",
   "execution_count": null,
   "metadata": {},
   "outputs": [],
   "source": []
  }
 ],
 "metadata": {
  "colab": {
   "name": "Ch.5 Orthogonality.ipynb",
   "provenance": [],
   "version": "0.3.2"
  },
  "kernelspec": {
   "display_name": "Python 3",
   "language": "python",
   "name": "python3"
  },
  "language_info": {
   "codemirror_mode": {
    "name": "ipython",
    "version": 3
   },
   "file_extension": ".py",
   "mimetype": "text/x-python",
   "name": "python",
   "nbconvert_exporter": "python",
   "pygments_lexer": "ipython3",
   "version": "3.7.3"
  }
 },
 "nbformat": 4,
 "nbformat_minor": 1
}
