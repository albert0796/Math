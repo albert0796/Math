{
 "cells": [
  {
   "cell_type": "markdown",
   "metadata": {},
   "source": [
    "## Table 7.2 gives the population of the world at 10-year intervals for the second half of the 20th century. Assuming an exponential growth model, find the relative growth rate and predict the world's population in 2010."
   ]
  },
  {
   "cell_type": "markdown",
   "metadata": {},
   "source": [
    "Given the equation for the growth rate of the population is $ p = 2.56 e^{kt} $, we take the natural logarithm of both sides to convert the equation into a linear one."
   ]
  },
  {
   "cell_type": "markdown",
   "metadata": {},
   "source": [
    "$ \\ln(p) = 0.94 + kt $"
   ]
  },
  {
   "cell_type": "markdown",
   "metadata": {},
   "source": [
    "Given the time is measured in 10 intervals, t=0 is 1950, t=1 is 1960, and so on."
   ]
  },
  {
   "cell_type": "markdown",
   "metadata": {},
   "source": [
    "Plugging in the values of t and p from table7.2 yields the following system:  \n",
    "0.94 = 0.94  \n",
    "k = 0.172  \n",
    "2k = 0.371  \n",
    "3k = 0.555  \n",
    "4k = 0.724  \n",
    "5k = 0.865  "
   ]
  },
  {
   "cell_type": "markdown",
   "metadata": {},
   "source": [
    "The remaining equations correspond to system Ax = b, with\n",
    "$\n",
    "A=\\left [\n",
    "\\begin{matrix}\n",
    "1\t \\\\\n",
    "0\t  \\\\\n",
    "3  \\\\\n",
    "4  \\\\\n",
    "5  \\\\\n",
    "\\end{matrix}\n",
    "\\right ], \n",
    "b=\\left [\n",
    "\\begin{matrix}\n",
    "0.172\t \\\\\n",
    "0.371\t  \\\\\n",
    "0.555  \\\\\n",
    "0.724  \\\\\n",
    "0.865  \\\\\n",
    "\\end{matrix}\n",
    "\\right ]\n",
    "$"
   ]
  },
  {
   "cell_type": "code",
   "execution_count": 2,
   "metadata": {},
   "outputs": [
    {
     "data": {
      "text/plain": [
       "0.1776078431372549"
      ]
     },
     "execution_count": 2,
     "metadata": {},
     "output_type": "execute_result"
    }
   ],
   "source": [
    "import numpy as np\n",
    "\n",
    "A=np.array([[1],\n",
    "            [0],\n",
    "            [3],\n",
    "            [4],\n",
    "            [5]])\n",
    "b=np.array([[0.172],\n",
    "            [0.371],\n",
    "            [0.555],\n",
    "            [0.724],\n",
    "            [0.865]])\n",
    "\n",
    "def regression_fit(X, y):\n",
    "    w_hat = np.linalg.solve(X.T.dot(X), X.T.dot(y))\n",
    "    return w_hat\n",
    "\n",
    "x=regression_fit(A, b)\n",
    "x.item(0)"
   ]
  },
  {
   "cell_type": "markdown",
   "metadata": {},
   "source": [
    "With the estimated k = 0.178, the estimated population model is $ p = 2.56 e^{0.178t} $"
   ]
  },
  {
   "cell_type": "markdown",
   "metadata": {},
   "source": [
    "Input t=6 into model"
   ]
  },
  {
   "cell_type": "code",
   "execution_count": 3,
   "metadata": {},
   "outputs": [
    {
     "data": {
      "text/plain": [
       "7.448459693698082"
      ]
     },
     "execution_count": 3,
     "metadata": {},
     "output_type": "execute_result"
    }
   ],
   "source": [
    "import math\n",
    "p=2.56*math.exp(0.178*6)\n",
    "p"
   ]
  },
  {
   "cell_type": "markdown",
   "metadata": {},
   "source": [
    "1. 因為資料為時間序列資料，前後期之間會相互影響，使任兩個觀察值的隨機誤差之間存在共變異，違反簡單回歸的基本假設:\n",
    "$ COV(e_{i},e_{j})=0$  \n",
    "2. 樣本數太少導致預測不精準"
   ]
  },
  {
   "cell_type": "code",
   "execution_count": null,
   "metadata": {},
   "outputs": [],
   "source": []
  }
 ],
 "metadata": {
  "kernelspec": {
   "display_name": "Python 3",
   "language": "python",
   "name": "python3"
  },
  "language_info": {
   "codemirror_mode": {
    "name": "ipython",
    "version": 3
   },
   "file_extension": ".py",
   "mimetype": "text/x-python",
   "name": "python",
   "nbconvert_exporter": "python",
   "pygments_lexer": "ipython3",
   "version": "3.7.3"
  }
 },
 "nbformat": 4,
 "nbformat_minor": 4
}
