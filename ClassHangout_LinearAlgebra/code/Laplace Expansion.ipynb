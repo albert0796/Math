{
 "cells": [
  {
   "cell_type": "markdown",
   "metadata": {},
   "source": [
    "### Use cofactor expansion along any row or column that seems convenient.\n",
    "### Laplace Expansion\n",
    "$ \\det A = \\sum_{i=1}^{N} (-1)^{1+j} a_{1j} \\det A_{1j} $"
   ]
  },
  {
   "cell_type": "markdown",
   "metadata": {},
   "source": [
    "$$\\begin{vmatrix}\n",
    "5 & 2 & 2 \\\\\n",
    "-1 & 1 & 2 \\\\\n",
    "3 & 0 & 0\n",
    "\\end{vmatrix}$$"
   ]
  },
  {
   "cell_type": "code",
   "execution_count": 1,
   "metadata": {},
   "outputs": [
    {
     "data": {
      "text/plain": [
       "6"
      ]
     },
     "execution_count": 1,
     "metadata": {},
     "output_type": "execute_result"
    }
   ],
   "source": [
    "import numpy as np\n",
    "\n",
    "m=np.array([[5,2,2],\n",
    "            [-1,1,2],\n",
    "            [3,0,0]])\n",
    "def Det(m):\n",
    "    if m.shape[1]==1:\n",
    "        return m.item(0)\n",
    "             \n",
    "    else:\n",
    "        det=0\n",
    "        for j in range(1,m.shape[1]+1):\n",
    "            mt=m\n",
    "            for i,k in zip(list([0,1]),list([0,j-1])):\n",
    "                mt=np.delete(mt, k, axis=i)\n",
    "            det+=((-1)**(1+j))*m.item(0,j-1)*Det(mt)\n",
    "        return det\n",
    "Det(m)"
   ]
  },
  {
   "cell_type": "markdown",
   "metadata": {},
   "source": [
    "$$\\begin{vmatrix}\n",
    "-4 & 1 & 3 \\\\\n",
    "2 & -2 & 4 \\\\\n",
    "1 & -1 & 0\n",
    "\\end{vmatrix}$$"
   ]
  },
  {
   "cell_type": "code",
   "execution_count": 2,
   "metadata": {},
   "outputs": [
    {
     "data": {
      "text/plain": [
       "-12"
      ]
     },
     "execution_count": 2,
     "metadata": {},
     "output_type": "execute_result"
    }
   ],
   "source": [
    "m=np.array([[-4,1,3],\n",
    "            [2,-2,4],\n",
    "            [1,-1,0]])\n",
    "Det(m)"
   ]
  },
  {
   "cell_type": "code",
   "execution_count": null,
   "metadata": {},
   "outputs": [],
   "source": []
  }
 ],
 "metadata": {
  "kernelspec": {
   "display_name": "Python 3",
   "language": "python",
   "name": "python3"
  },
  "language_info": {
   "codemirror_mode": {
    "name": "ipython",
    "version": 3
   },
   "file_extension": ".py",
   "mimetype": "text/x-python",
   "name": "python",
   "nbconvert_exporter": "python",
   "pygments_lexer": "ipython3",
   "version": "3.7.3"
  }
 },
 "nbformat": 4,
 "nbformat_minor": 4
}
